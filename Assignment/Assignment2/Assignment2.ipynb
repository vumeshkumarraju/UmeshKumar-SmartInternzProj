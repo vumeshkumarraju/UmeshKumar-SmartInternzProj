{
 "cells": [
  {
   "attachments": {},
   "cell_type": "markdown",
   "metadata": {},
   "source": [
    "<h3>NAME: V Umesh Kumar Raju</h3>\n",
    "<h3>REG NO: 20MIS0187</h3>\n",
    "<h3>Assignment 2</h3>\n",
    "\n",
    "<h5>Titanic Ship Case Study\n",
    "Problem Description: On April 15, 1912, during her maiden voyage, the Titanic sank after colliding\n",
    "with an iceberg, killing 1502 out of 2224 passengers and crew. Translated 32% survival rate.\n",
    "<br><br>\n",
    ">> One of the reasons that the shipwreck led to such loss of life was that there were not\n",
    "enough lifeboats for the passengers and crew.\n",
    "<br>\n",
    ">> Although there was some element of luck involved in surviving the sinking, some groups of\n",
    "people were more likely to survive than others, such as women, children, and the upper-\n",
    "class.\n",
    "<br><br>\n",
    "The problem associated with the Titanic dataset is to predict whether a passenger survived the\n",
    "disaster or not. The dataset contains various features such as passenger class, age, gender,\n",
    "cabin, fare, and whether the passenger had any siblings or spouses on board. These features can\n",
    "be used to build a predictive model to determine the likelihood of a passenger surviving the\n",
    "disaster. The dataset offers opportunities for feature engineering, data visualization, and model\n",
    "selection, making it a valuable resource for developing and testing data analysis and machine\n",
    "learning skills.</h5>"
   ]
  },
  {
   "cell_type": "code",
   "execution_count": 24,
   "metadata": {},
   "outputs": [],
   "source": [
    "#importing the libraries\n",
    "\n",
    "import numpy as np\n",
    "import pandas as pd \n",
    "import matplotlib.pyplot as plt\n",
    "import seaborn as sns"
   ]
  },
  {
   "attachments": {},
   "cell_type": "markdown",
   "metadata": {},
   "source": [
    "<h5> 1. Download the data set</h5>\n",
    "<h5> 2. Load the data set</h5>"
   ]
  },
  {
   "cell_type": "code",
   "execution_count": 25,
   "metadata": {},
   "outputs": [
    {
     "data": {
      "text/html": [
       "<div>\n",
       "<style scoped>\n",
       "    .dataframe tbody tr th:only-of-type {\n",
       "        vertical-align: middle;\n",
       "    }\n",
       "\n",
       "    .dataframe tbody tr th {\n",
       "        vertical-align: top;\n",
       "    }\n",
       "\n",
       "    .dataframe thead th {\n",
       "        text-align: right;\n",
       "    }\n",
       "</style>\n",
       "<table border=\"1\" class=\"dataframe\">\n",
       "  <thead>\n",
       "    <tr style=\"text-align: right;\">\n",
       "      <th></th>\n",
       "      <th>survived</th>\n",
       "      <th>pclass</th>\n",
       "      <th>sex</th>\n",
       "      <th>age</th>\n",
       "      <th>sibsp</th>\n",
       "      <th>parch</th>\n",
       "      <th>fare</th>\n",
       "      <th>embarked</th>\n",
       "      <th>class</th>\n",
       "      <th>who</th>\n",
       "      <th>adult_male</th>\n",
       "      <th>deck</th>\n",
       "      <th>embark_town</th>\n",
       "      <th>alive</th>\n",
       "      <th>alone</th>\n",
       "    </tr>\n",
       "  </thead>\n",
       "  <tbody>\n",
       "    <tr>\n",
       "      <th>0</th>\n",
       "      <td>0</td>\n",
       "      <td>3</td>\n",
       "      <td>male</td>\n",
       "      <td>22.0</td>\n",
       "      <td>1</td>\n",
       "      <td>0</td>\n",
       "      <td>7.2500</td>\n",
       "      <td>S</td>\n",
       "      <td>Third</td>\n",
       "      <td>man</td>\n",
       "      <td>True</td>\n",
       "      <td>NaN</td>\n",
       "      <td>Southampton</td>\n",
       "      <td>no</td>\n",
       "      <td>False</td>\n",
       "    </tr>\n",
       "    <tr>\n",
       "      <th>1</th>\n",
       "      <td>1</td>\n",
       "      <td>1</td>\n",
       "      <td>female</td>\n",
       "      <td>38.0</td>\n",
       "      <td>1</td>\n",
       "      <td>0</td>\n",
       "      <td>71.2833</td>\n",
       "      <td>C</td>\n",
       "      <td>First</td>\n",
       "      <td>woman</td>\n",
       "      <td>False</td>\n",
       "      <td>C</td>\n",
       "      <td>Cherbourg</td>\n",
       "      <td>yes</td>\n",
       "      <td>False</td>\n",
       "    </tr>\n",
       "    <tr>\n",
       "      <th>2</th>\n",
       "      <td>1</td>\n",
       "      <td>3</td>\n",
       "      <td>female</td>\n",
       "      <td>26.0</td>\n",
       "      <td>0</td>\n",
       "      <td>0</td>\n",
       "      <td>7.9250</td>\n",
       "      <td>S</td>\n",
       "      <td>Third</td>\n",
       "      <td>woman</td>\n",
       "      <td>False</td>\n",
       "      <td>NaN</td>\n",
       "      <td>Southampton</td>\n",
       "      <td>yes</td>\n",
       "      <td>True</td>\n",
       "    </tr>\n",
       "    <tr>\n",
       "      <th>3</th>\n",
       "      <td>1</td>\n",
       "      <td>1</td>\n",
       "      <td>female</td>\n",
       "      <td>35.0</td>\n",
       "      <td>1</td>\n",
       "      <td>0</td>\n",
       "      <td>53.1000</td>\n",
       "      <td>S</td>\n",
       "      <td>First</td>\n",
       "      <td>woman</td>\n",
       "      <td>False</td>\n",
       "      <td>C</td>\n",
       "      <td>Southampton</td>\n",
       "      <td>yes</td>\n",
       "      <td>False</td>\n",
       "    </tr>\n",
       "    <tr>\n",
       "      <th>4</th>\n",
       "      <td>0</td>\n",
       "      <td>3</td>\n",
       "      <td>male</td>\n",
       "      <td>35.0</td>\n",
       "      <td>0</td>\n",
       "      <td>0</td>\n",
       "      <td>8.0500</td>\n",
       "      <td>S</td>\n",
       "      <td>Third</td>\n",
       "      <td>man</td>\n",
       "      <td>True</td>\n",
       "      <td>NaN</td>\n",
       "      <td>Southampton</td>\n",
       "      <td>no</td>\n",
       "      <td>True</td>\n",
       "    </tr>\n",
       "  </tbody>\n",
       "</table>\n",
       "</div>"
      ],
      "text/plain": [
       "   survived  pclass     sex   age  sibsp  parch     fare embarked  class  \\\n",
       "0         0       3    male  22.0      1      0   7.2500        S  Third   \n",
       "1         1       1  female  38.0      1      0  71.2833        C  First   \n",
       "2         1       3  female  26.0      0      0   7.9250        S  Third   \n",
       "3         1       1  female  35.0      1      0  53.1000        S  First   \n",
       "4         0       3    male  35.0      0      0   8.0500        S  Third   \n",
       "\n",
       "     who  adult_male deck  embark_town alive  alone  \n",
       "0    man        True  NaN  Southampton    no  False  \n",
       "1  woman       False    C    Cherbourg   yes  False  \n",
       "2  woman       False  NaN  Southampton   yes   True  \n",
       "3  woman       False    C  Southampton   yes  False  \n",
       "4    man        True  NaN  Southampton    no   True  "
      ]
     },
     "execution_count": 25,
     "metadata": {},
     "output_type": "execute_result"
    }
   ],
   "source": [
    "dfTitanic = pd.read_csv('titanic.csv')\n",
    "dfTitanic.head()"
   ]
  },
  {
   "attachments": {},
   "cell_type": "markdown",
   "metadata": {},
   "source": [
    "<h4> Perform Data visualization <h4>"
   ]
  },
  {
   "cell_type": "code",
   "execution_count": 26,
   "metadata": {},
   "outputs": [
    {
     "data": {
      "text/plain": [
       "([<matplotlib.patches.Wedge at 0x1337b1550>,\n",
       "  <matplotlib.patches.Wedge at 0x1337b5250>],\n",
       " [Text(-1.027562611392443, -0.392574935099458, 'Not Survived'),\n",
       "  Text(1.0275625746369201, 0.39257503130681154, 'Survived')],\n",
       " [Text(-0.5604886971231506, -0.21413178278152253, '61.6%'),\n",
       "  Text(0.5604886770746836, 0.21413183525826082, '38.4%')])"
      ]
     },
     "execution_count": 26,
     "metadata": {},
     "output_type": "execute_result"
    },
    {
     "name": "stderr",
     "output_type": "stream",
     "text": [
      "/Users/umesh/Library/Python/3.11/lib/python/site-packages/IPython/core/pylabtools.py:152: MatplotlibDeprecationWarning: savefig() got unexpected keyword argument \"orientation\" which is no longer supported as of 3.3 and will become an error two minor releases later\n",
      "  fig.canvas.print_figure(bytes_io, **kw)\n",
      "/Users/umesh/Library/Python/3.11/lib/python/site-packages/IPython/core/pylabtools.py:152: MatplotlibDeprecationWarning: savefig() got unexpected keyword argument \"facecolor\" which is no longer supported as of 3.3 and will become an error two minor releases later\n",
      "  fig.canvas.print_figure(bytes_io, **kw)\n",
      "/Users/umesh/Library/Python/3.11/lib/python/site-packages/IPython/core/pylabtools.py:152: MatplotlibDeprecationWarning: savefig() got unexpected keyword argument \"edgecolor\" which is no longer supported as of 3.3 and will become an error two minor releases later\n",
      "  fig.canvas.print_figure(bytes_io, **kw)\n",
      "/Users/umesh/Library/Python/3.11/lib/python/site-packages/IPython/core/pylabtools.py:152: MatplotlibDeprecationWarning: savefig() got unexpected keyword argument \"bbox_inches_restore\" which is no longer supported as of 3.3 and will become an error two minor releases later\n",
      "  fig.canvas.print_figure(bytes_io, **kw)\n"
     ]
    },
    {
     "data": {
      "image/png": "[encoded data removed]",
      "text/plain": [
       "<Figure size 640x480 with 1 Axes>"
      ]
     },
     "metadata": {},
     "output_type": "display_data"
    }
   ],
   "source": [
    "plt.pie(dfTitanic.survived.value_counts(), labels=['Not Survived', 'Survived'], autopct='%1.1f%%', shadow=True, startangle=90)"
   ]
  },
  {
   "cell_type": "code",
   "execution_count": 27,
   "metadata": {},
   "outputs": [
    {
     "data": {
      "text/plain": [
       "Text(0, 0.5, 'passender count')"
      ]
     },
     "execution_count": 27,
     "metadata": {},
     "output_type": "execute_result"
    },
    {
     "name": "stderr",
     "output_type": "stream",
     "text": [
      "/Users/umesh/Library/Python/3.11/lib/python/site-packages/IPython/core/pylabtools.py:152: MatplotlibDeprecationWarning: savefig() got unexpected keyword argument \"orientation\" which is no longer supported as of 3.3 and will become an error two minor releases later\n",
      "  fig.canvas.print_figure(bytes_io, **kw)\n",
      "/Users/umesh/Library/Python/3.11/lib/python/site-packages/IPython/core/pylabtools.py:152: MatplotlibDeprecationWarning: savefig() got unexpected keyword argument \"facecolor\" which is no longer supported as of 3.3 and will become an error two minor releases later\n",
      "  fig.canvas.print_figure(bytes_io, **kw)\n",
      "/Users/umesh/Library/Python/3.11/lib/python/site-packages/IPython/core/pylabtools.py:152: MatplotlibDeprecationWarning: savefig() got unexpected keyword argument \"edgecolor\" which is no longer supported as of 3.3 and will become an error two minor releases later\n",
      "  fig.canvas.print_figure(bytes_io, **kw)\n",
      "/Users/umesh/Library/Python/3.11/lib/python/site-packages/IPython/core/pylabtools.py:152: MatplotlibDeprecationWarning: savefig() got unexpected keyword argument \"bbox_inches_restore\" which is no longer supported as of 3.3 and will become an error two minor releases later\n",
      "  fig.canvas.print_figure(bytes_io, **kw)\n"
     ]
    },
    {
     "data": {
      "image/png": "[encoded data removed]",
      "text/plain": [
       "<Figure size 640x480 with 1 Axes>"
      ]
     },
     "metadata": {},
     "output_type": "display_data"
    }
   ],
   "source": [
    "plt.bar(dfTitanic.sex.value_counts().index,dfTitanic.sex.value_counts(), color=['blue', 'pink'])\n",
    "plt.xlabel('Gender')\n",
    "plt.ylabel('passender count')"
   ]
  },
  {
   "cell_type": "code",
   "execution_count": 28,
   "metadata": {},
   "outputs": [
    {
     "data": {
      "text/plain": [
       "Text(0, 0.5, 'Survival Count')"
      ]
     },
     "execution_count": 28,
     "metadata": {},
     "output_type": "execute_result"
    },
    {
     "name": "stderr",
     "output_type": "stream",
     "text": [
      "/Users/umesh/Library/Python/3.11/lib/python/site-packages/IPython/core/pylabtools.py:152: MatplotlibDeprecationWarning: savefig() got unexpected keyword argument \"orientation\" which is no longer supported as of 3.3 and will become an error two minor releases later\n",
      "  fig.canvas.print_figure(bytes_io, **kw)\n",
      "/Users/umesh/Library/Python/3.11/lib/python/site-packages/IPython/core/pylabtools.py:152: MatplotlibDeprecationWarning: savefig() got unexpected keyword argument \"facecolor\" which is no longer supported as of 3.3 and will become an error two minor releases later\n",
      "  fig.canvas.print_figure(bytes_io, **kw)\n",
      "/Users/umesh/Library/Python/3.11/lib/python/site-packages/IPython/core/pylabtools.py:152: MatplotlibDeprecationWarning: savefig() got unexpected keyword argument \"edgecolor\" which is no longer supported as of 3.3 and will become an error two minor releases later\n",
      "  fig.canvas.print_figure(bytes_io, **kw)\n",
      "/Users/umesh/Library/Python/3.11/lib/python/site-packages/IPython/core/pylabtools.py:152: MatplotlibDeprecationWarning: savefig() got unexpected keyword argument \"bbox_inches_restore\" which is no longer supported as of 3.3 and will become an error two minor releases later\n",
      "  fig.canvas.print_figure(bytes_io, **kw)\n"
     ]
    },
    {
     "data": {
      "image/png": "[encoded data removed]",
      "text/plain": [
       "<Figure size 640x480 with 1 Axes>"
      ]
     },
     "metadata": {},
     "output_type": "display_data"
    }
   ],
   "source": [
    "dfTitanicSurvival = dfTitanic[dfTitanic.survived == 1]\n",
    "plt.bar(dfTitanicSurvival.sex.value_counts().index,dfTitanicSurvival.sex.value_counts(), color=['pink', 'blue'])\n",
    "plt.xlabel('Gender')\n",
    "plt.ylabel('Survival Count')\n"
   ]
  },
  {
   "cell_type": "code",
   "execution_count": 29,
   "metadata": {},
   "outputs": [
    {
     "data": {
      "text/plain": [
       "Text(0, 0.5, 'Number of Passengers')"
      ]
     },
     "execution_count": 29,
     "metadata": {},
     "output_type": "execute_result"
    },
    {
     "name": "stderr",
     "output_type": "stream",
     "text": [
      "/Users/umesh/Library/Python/3.11/lib/python/site-packages/IPython/core/pylabtools.py:152: MatplotlibDeprecationWarning: savefig() got unexpected keyword argument \"orientation\" which is no longer supported as of 3.3 and will become an error two minor releases later\n",
      "  fig.canvas.print_figure(bytes_io, **kw)\n",
      "/Users/umesh/Library/Python/3.11/lib/python/site-packages/IPython/core/pylabtools.py:152: MatplotlibDeprecationWarning: savefig() got unexpected keyword argument \"facecolor\" which is no longer supported as of 3.3 and will become an error two minor releases later\n",
      "  fig.canvas.print_figure(bytes_io, **kw)\n",
      "/Users/umesh/Library/Python/3.11/lib/python/site-packages/IPython/core/pylabtools.py:152: MatplotlibDeprecationWarning: savefig() got unexpected keyword argument \"edgecolor\" which is no longer supported as of 3.3 and will become an error two minor releases later\n",
      "  fig.canvas.print_figure(bytes_io, **kw)\n",
      "/Users/umesh/Library/Python/3.11/lib/python/site-packages/IPython/core/pylabtools.py:152: MatplotlibDeprecationWarning: savefig() got unexpected keyword argument \"bbox_inches_restore\" which is no longer supported as of 3.3 and will become an error two minor releases later\n",
      "  fig.canvas.print_figure(bytes_io, **kw)\n"
     ]
    },
    {
     "data": {
      "image/png": "[encoded data removed]",
      "text/plain": [
       "<Figure size 640x480 with 1 Axes>"
      ]
     },
     "metadata": {},
     "output_type": "display_data"
    }
   ],
   "source": [
    "plt.bar(dfTitanic.pclass.value_counts().index, dfTitanic.pclass.value_counts().values, color=['red', 'green', 'blue'])\n",
    "plt.xlabel('Class')\n",
    "plt.ylabel('Number of Passengers')"
   ]
  },
  {
   "cell_type": "code",
   "execution_count": 30,
   "metadata": {},
   "outputs": [
    {
     "data": {
      "text/plain": [
       "Text(0, 0.5, 'Number of Passengers')"
      ]
     },
     "execution_count": 30,
     "metadata": {},
     "output_type": "execute_result"
    },
    {
     "name": "stderr",
     "output_type": "stream",
     "text": [
      "/Users/umesh/Library/Python/3.11/lib/python/site-packages/IPython/core/pylabtools.py:152: MatplotlibDeprecationWarning: savefig() got unexpected keyword argument \"orientation\" which is no longer supported as of 3.3 and will become an error two minor releases later\n",
      "  fig.canvas.print_figure(bytes_io, **kw)\n",
      "/Users/umesh/Library/Python/3.11/lib/python/site-packages/IPython/core/pylabtools.py:152: MatplotlibDeprecationWarning: savefig() got unexpected keyword argument \"facecolor\" which is no longer supported as of 3.3 and will become an error two minor releases later\n",
      "  fig.canvas.print_figure(bytes_io, **kw)\n",
      "/Users/umesh/Library/Python/3.11/lib/python/site-packages/IPython/core/pylabtools.py:152: MatplotlibDeprecationWarning: savefig() got unexpected keyword argument \"edgecolor\" which is no longer supported as of 3.3 and will become an error two minor releases later\n",
      "  fig.canvas.print_figure(bytes_io, **kw)\n",
      "/Users/umesh/Library/Python/3.11/lib/python/site-packages/IPython/core/pylabtools.py:152: MatplotlibDeprecationWarning: savefig() got unexpected keyword argument \"bbox_inches_restore\" which is no longer supported as of 3.3 and will become an error two minor releases later\n",
      "  fig.canvas.print_figure(bytes_io, **kw)\n"
     ]
    },
    {
     "data": {
      "image/png": "[encoded data removed]",
      "text/plain": [
       "<Figure size 640x480 with 1 Axes>"
      ]
     },
     "metadata": {},
     "output_type": "display_data"
    }
   ],
   "source": [
    "plt.bar(dfTitanicSurvival.pclass.value_counts().index, dfTitanicSurvival.pclass.value_counts().values, color=['red', 'green', 'blue'])\n",
    "plt.xlabel('Class')\n",
    "plt.ylabel('Number of Passengers')"
   ]
  },
  {
   "cell_type": "code",
   "execution_count": 31,
   "metadata": {},
   "outputs": [
    {
     "data": {
      "text/plain": [
       "<AxesSubplot:xlabel='age', ylabel='Count'>"
      ]
     },
     "execution_count": 31,
     "metadata": {},
     "output_type": "execute_result"
    },
    {
     "name": "stderr",
     "output_type": "stream",
     "text": [
      "/Users/umesh/Library/Python/3.11/lib/python/site-packages/IPython/core/pylabtools.py:152: MatplotlibDeprecationWarning: savefig() got unexpected keyword argument \"orientation\" which is no longer supported as of 3.3 and will become an error two minor releases later\n",
      "  fig.canvas.print_figure(bytes_io, **kw)\n",
      "/Users/umesh/Library/Python/3.11/lib/python/site-packages/IPython/core/pylabtools.py:152: MatplotlibDeprecationWarning: savefig() got unexpected keyword argument \"facecolor\" which is no longer supported as of 3.3 and will become an error two minor releases later\n",
      "  fig.canvas.print_figure(bytes_io, **kw)\n",
      "/Users/umesh/Library/Python/3.11/lib/python/site-packages/IPython/core/pylabtools.py:152: MatplotlibDeprecationWarning: savefig() got unexpected keyword argument \"edgecolor\" which is no longer supported as of 3.3 and will become an error two minor releases later\n",
      "  fig.canvas.print_figure(bytes_io, **kw)\n",
      "/Users/umesh/Library/Python/3.11/lib/python/site-packages/IPython/core/pylabtools.py:152: MatplotlibDeprecationWarning: savefig() got unexpected keyword argument \"bbox_inches_restore\" which is no longer supported as of 3.3 and will become an error two minor releases later\n",
      "  fig.canvas.print_figure(bytes_io, **kw)\n"
     ]
    },
    {
     "data": {
      "image/png": "[encoded data removed]",
      "text/plain": [
       "<Figure size 640x480 with 1 Axes>"
      ]
     },
     "metadata": {},
     "output_type": "display_data"
    }
   ],
   "source": [
    "sns.histplot(data=dfTitanic, x='age', hue='survived', multiple='stack', kde=True, log_scale=True)"
   ]
  },
  {
   "attachments": {},
   "cell_type": "markdown",
   "metadata": {},
   "source": [
    "<h4>4. Perform descriptive statistics on the dataset.</h4>"
   ]
  },
  {
   "cell_type": "code",
   "execution_count": 32,
   "metadata": {},
   "outputs": [
    {
     "name": "stdout",
     "output_type": "stream",
     "text": [
      "<class 'pandas.core.frame.DataFrame'>\n",
      "RangeIndex: 891 entries, 0 to 890\n",
      "Data columns (total 15 columns):\n",
      " #   Column       Non-Null Count  Dtype  \n",
      "---  ------       --------------  -----  \n",
      " 0   survived     891 non-null    int64  \n",
      " 1   pclass       891 non-null    int64  \n",
      " 2   sex          891 non-null    object \n",
      " 3   age          714 non-null    float64\n",
      " 4   sibsp        891 non-null    int64  \n",
      " 5   parch        891 non-null    int64  \n",
      " 6   fare         891 non-null    float64\n",
      " 7   embarked     889 non-null    object \n",
      " 8   class        891 non-null    object \n",
      " 9   who          891 non-null    object \n",
      " 10  adult_male   891 non-null    bool   \n",
      " 11  deck         203 non-null    object \n",
      " 12  embark_town  889 non-null    object \n",
      " 13  alive        891 non-null    object \n",
      " 14  alone        891 non-null    bool   \n",
      "dtypes: bool(2), float64(2), int64(4), object(7)\n",
      "memory usage: 92.4+ KB\n"
     ]
    }
   ],
   "source": [
    "dfTitanic.info()"
   ]
  },
  {
   "cell_type": "code",
   "execution_count": 33,
   "metadata": {},
   "outputs": [
    {
     "data": {
      "text/plain": [
       "survived         int64\n",
       "pclass           int64\n",
       "sex             object\n",
       "age            float64\n",
       "sibsp            int64\n",
       "parch            int64\n",
       "fare           float64\n",
       "embarked        object\n",
       "class           object\n",
       "who             object\n",
       "adult_male        bool\n",
       "deck            object\n",
       "embark_town     object\n",
       "alive           object\n",
       "alone             bool\n",
       "dtype: object"
      ]
     },
     "execution_count": 33,
     "metadata": {},
     "output_type": "execute_result"
    }
   ],
   "source": [
    "dfTitanic.dtypes"
   ]
  },
  {
   "cell_type": "code",
   "execution_count": 34,
   "metadata": {},
   "outputs": [
    {
     "data": {
      "text/html": [
       "<div>\n",
       "<style scoped>\n",
       "    .dataframe tbody tr th:only-of-type {\n",
       "        vertical-align: middle;\n",
       "    }\n",
       "\n",
       "    .dataframe tbody tr th {\n",
       "        vertical-align: top;\n",
       "    }\n",
       "\n",
       "    .dataframe thead th {\n",
       "        text-align: right;\n",
       "    }\n",
       "</style>\n",
       "<table border=\"1\" class=\"dataframe\">\n",
       "  <thead>\n",
       "    <tr style=\"text-align: right;\">\n",
       "      <th></th>\n",
       "      <th>survived</th>\n",
       "      <th>pclass</th>\n",
       "      <th>age</th>\n",
       "      <th>sibsp</th>\n",
       "      <th>parch</th>\n",
       "      <th>fare</th>\n",
       "    </tr>\n",
       "  </thead>\n",
       "  <tbody>\n",
       "    <tr>\n",
       "      <th>count</th>\n",
       "      <td>891.000000</td>\n",
       "      <td>891.000000</td>\n",
       "      <td>714.000000</td>\n",
       "      <td>891.000000</td>\n",
       "      <td>891.000000</td>\n",
       "      <td>891.000000</td>\n",
       "    </tr>\n",
       "    <tr>\n",
       "      <th>mean</th>\n",
       "      <td>0.383838</td>\n",
       "      <td>2.308642</td>\n",
       "      <td>29.699118</td>\n",
       "      <td>0.523008</td>\n",
       "      <td>0.381594</td>\n",
       "      <td>32.204208</td>\n",
       "    </tr>\n",
       "    <tr>\n",
       "      <th>std</th>\n",
       "      <td>0.486592</td>\n",
       "      <td>0.836071</td>\n",
       "      <td>14.526497</td>\n",
       "      <td>1.102743</td>\n",
       "      <td>0.806057</td>\n",
       "      <td>49.693429</td>\n",
       "    </tr>\n",
       "    <tr>\n",
       "      <th>min</th>\n",
       "      <td>0.000000</td>\n",
       "      <td>1.000000</td>\n",
       "      <td>0.420000</td>\n",
       "      <td>0.000000</td>\n",
       "      <td>0.000000</td>\n",
       "      <td>0.000000</td>\n",
       "    </tr>\n",
       "    <tr>\n",
       "      <th>25%</th>\n",
       "      <td>0.000000</td>\n",
       "      <td>2.000000</td>\n",
       "      <td>20.125000</td>\n",
       "      <td>0.000000</td>\n",
       "      <td>0.000000</td>\n",
       "      <td>7.910400</td>\n",
       "    </tr>\n",
       "    <tr>\n",
       "      <th>50%</th>\n",
       "      <td>0.000000</td>\n",
       "      <td>3.000000</td>\n",
       "      <td>28.000000</td>\n",
       "      <td>0.000000</td>\n",
       "      <td>0.000000</td>\n",
       "      <td>14.454200</td>\n",
       "    </tr>\n",
       "    <tr>\n",
       "      <th>75%</th>\n",
       "      <td>1.000000</td>\n",
       "      <td>3.000000</td>\n",
       "      <td>38.000000</td>\n",
       "      <td>1.000000</td>\n",
       "      <td>0.000000</td>\n",
       "      <td>31.000000</td>\n",
       "    </tr>\n",
       "    <tr>\n",
       "      <th>max</th>\n",
       "      <td>1.000000</td>\n",
       "      <td>3.000000</td>\n",
       "      <td>80.000000</td>\n",
       "      <td>8.000000</td>\n",
       "      <td>6.000000</td>\n",
       "      <td>512.329200</td>\n",
       "    </tr>\n",
       "  </tbody>\n",
       "</table>\n",
       "</div>"
      ],
      "text/plain": [
       "         survived      pclass         age       sibsp       parch        fare\n",
       "count  891.000000  891.000000  714.000000  891.000000  891.000000  891.000000\n",
       "mean     0.383838    2.308642   29.699118    0.523008    0.381594   32.204208\n",
       "std      0.486592    0.836071   14.526497    1.102743    0.806057   49.693429\n",
       "min      0.000000    1.000000    0.420000    0.000000    0.000000    0.000000\n",
       "25%      0.000000    2.000000   20.125000    0.000000    0.000000    7.910400\n",
       "50%      0.000000    3.000000   28.000000    0.000000    0.000000   14.454200\n",
       "75%      1.000000    3.000000   38.000000    1.000000    0.000000   31.000000\n",
       "max      1.000000    3.000000   80.000000    8.000000    6.000000  512.329200"
      ]
     },
     "execution_count": 34,
     "metadata": {},
     "output_type": "execute_result"
    }
   ],
   "source": [
    "dfTitanic.describe()"
   ]
  },
  {
   "cell_type": "code",
   "execution_count": 37,
   "metadata": {},
   "outputs": [
    {
     "data": {
      "text/plain": [
       "survived  pclass  sex     age   sibsp  parch  fare      embarked  class  who    adult_male  deck  embark_town  alive  alone\n",
       "1         1       female  24.0  0      0      69.3000   C         First  woman  False       B     Cherbourg    yes    True     2\n",
       "                          58.0  0      0      26.5500   S         First  woman  False       C     Southampton  yes    True     1\n",
       "                          49.0  0      0      25.9292   S         First  woman  False       D     Southampton  yes    True     1\n",
       "                                1      0      76.7292   C         First  woman  False       D     Cherbourg    yes    False    1\n",
       "                          50.0  0      1      247.5208  C         First  woman  False       B     Cherbourg    yes    False    1\n",
       "                                                                                                                              ..\n",
       "                          16.0  0      0      86.5000   S         First  woman  False       B     Southampton  yes    True     1\n",
       "                                       1      39.4000   S         First  woman  False       D     Southampton  yes    False    1\n",
       "                                              57.9792   C         First  woman  False       B     Cherbourg    yes    False    1\n",
       "                          17.0  1      0      57.0000   S         First  woman  False       B     Southampton  yes    False    1\n",
       "          3       male    32.0  0      0      8.0500    S         Third  man    True        E     Southampton  yes    True     1\n",
       "Length: 181, dtype: int64"
      ]
     },
     "execution_count": 37,
     "metadata": {},
     "output_type": "execute_result"
    }
   ],
   "source": [
    "dfTitanic.value_counts()"
   ]
  },
  {
   "attachments": {},
   "cell_type": "markdown",
   "metadata": {},
   "source": [
    "<h4>5. Handle the Missing values.</h4>"
   ]
  },
  {
   "cell_type": "code",
   "execution_count": 38,
   "metadata": {},
   "outputs": [
    {
     "data": {
      "text/plain": [
       "survived       False\n",
       "pclass         False\n",
       "sex            False\n",
       "age             True\n",
       "sibsp          False\n",
       "parch          False\n",
       "fare           False\n",
       "embarked        True\n",
       "class          False\n",
       "who            False\n",
       "adult_male     False\n",
       "deck            True\n",
       "embark_town     True\n",
       "alive          False\n",
       "alone          False\n",
       "dtype: bool"
      ]
     },
     "execution_count": 38,
     "metadata": {},
     "output_type": "execute_result"
    }
   ],
   "source": [
    "dfTitanic.isnull().any()"
   ]
  },
  {
   "cell_type": "code",
   "execution_count": 39,
   "metadata": {},
   "outputs": [
    {
     "data": {
      "text/plain": [
       "survived         0\n",
       "pclass           0\n",
       "sex              0\n",
       "age            177\n",
       "sibsp            0\n",
       "parch            0\n",
       "fare             0\n",
       "embarked         2\n",
       "class            0\n",
       "who              0\n",
       "adult_male       0\n",
       "deck           688\n",
       "embark_town      2\n",
       "alive            0\n",
       "alone            0\n",
       "dtype: int64"
      ]
     },
     "execution_count": 39,
     "metadata": {},
     "output_type": "execute_result"
    }
   ],
   "source": [
    "dfTitanic.isnull().sum()"
   ]
  },
  {
   "cell_type": "code",
   "execution_count": 43,
   "metadata": {},
   "outputs": [],
   "source": [
    "# age -> Median\n",
    "\n",
    "dfTitanic['age'].fillna(dfTitanic['age'].median(), inplace=True)\n",
    "\n",
    "# embarked -> mode\n",
    "\n",
    "dfTitanic['embarked'].fillna(dfTitanic['embarked'].mode()[0], inplace=True)\n",
    "\n",
    "# deck -> mode\n",
    "\n",
    "dfTitanic['deck'].fillna(dfTitanic['deck'].mode()[0], inplace=True)\n",
    "\n",
    "# embark_town -> drop\n",
    "\n",
    "dfTitanic.dropna(subset=['embark_town'], inplace=True)\n"
   ]
  },
  {
   "cell_type": "code",
   "execution_count": 44,
   "metadata": {},
   "outputs": [
    {
     "data": {
      "text/plain": [
       "survived       0\n",
       "pclass         0\n",
       "sex            0\n",
       "age            0\n",
       "sibsp          0\n",
       "parch          0\n",
       "fare           0\n",
       "embarked       0\n",
       "class          0\n",
       "who            0\n",
       "adult_male     0\n",
       "deck           0\n",
       "embark_town    0\n",
       "alive          0\n",
       "alone          0\n",
       "dtype: int64"
      ]
     },
     "execution_count": 44,
     "metadata": {},
     "output_type": "execute_result"
    }
   ],
   "source": [
    "dfTitanic.isnull().sum()"
   ]
  },
  {
   "cell_type": "code",
   "execution_count": 45,
   "metadata": {},
   "outputs": [
    {
     "data": {
      "text/html": [
       "<div>\n",
       "<style scoped>\n",
       "    .dataframe tbody tr th:only-of-type {\n",
       "        vertical-align: middle;\n",
       "    }\n",
       "\n",
       "    .dataframe tbody tr th {\n",
       "        vertical-align: top;\n",
       "    }\n",
       "\n",
       "    .dataframe thead th {\n",
       "        text-align: right;\n",
       "    }\n",
       "</style>\n",
       "<table border=\"1\" class=\"dataframe\">\n",
       "  <thead>\n",
       "    <tr style=\"text-align: right;\">\n",
       "      <th></th>\n",
       "      <th>survived</th>\n",
       "      <th>pclass</th>\n",
       "      <th>sex</th>\n",
       "      <th>age</th>\n",
       "      <th>sibsp</th>\n",
       "      <th>parch</th>\n",
       "      <th>fare</th>\n",
       "      <th>embarked</th>\n",
       "      <th>class</th>\n",
       "      <th>who</th>\n",
       "      <th>adult_male</th>\n",
       "      <th>deck</th>\n",
       "      <th>embark_town</th>\n",
       "      <th>alive</th>\n",
       "      <th>alone</th>\n",
       "    </tr>\n",
       "  </thead>\n",
       "  <tbody>\n",
       "    <tr>\n",
       "      <th>0</th>\n",
       "      <td>0</td>\n",
       "      <td>3</td>\n",
       "      <td>male</td>\n",
       "      <td>22.0</td>\n",
       "      <td>1</td>\n",
       "      <td>0</td>\n",
       "      <td>7.2500</td>\n",
       "      <td>S</td>\n",
       "      <td>Third</td>\n",
       "      <td>man</td>\n",
       "      <td>True</td>\n",
       "      <td>C</td>\n",
       "      <td>Southampton</td>\n",
       "      <td>no</td>\n",
       "      <td>False</td>\n",
       "    </tr>\n",
       "    <tr>\n",
       "      <th>1</th>\n",
       "      <td>1</td>\n",
       "      <td>1</td>\n",
       "      <td>female</td>\n",
       "      <td>38.0</td>\n",
       "      <td>1</td>\n",
       "      <td>0</td>\n",
       "      <td>71.2833</td>\n",
       "      <td>C</td>\n",
       "      <td>First</td>\n",
       "      <td>woman</td>\n",
       "      <td>False</td>\n",
       "      <td>C</td>\n",
       "      <td>Cherbourg</td>\n",
       "      <td>yes</td>\n",
       "      <td>False</td>\n",
       "    </tr>\n",
       "    <tr>\n",
       "      <th>2</th>\n",
       "      <td>1</td>\n",
       "      <td>3</td>\n",
       "      <td>female</td>\n",
       "      <td>26.0</td>\n",
       "      <td>0</td>\n",
       "      <td>0</td>\n",
       "      <td>7.9250</td>\n",
       "      <td>S</td>\n",
       "      <td>Third</td>\n",
       "      <td>woman</td>\n",
       "      <td>False</td>\n",
       "      <td>C</td>\n",
       "      <td>Southampton</td>\n",
       "      <td>yes</td>\n",
       "      <td>True</td>\n",
       "    </tr>\n",
       "    <tr>\n",
       "      <th>3</th>\n",
       "      <td>1</td>\n",
       "      <td>1</td>\n",
       "      <td>female</td>\n",
       "      <td>35.0</td>\n",
       "      <td>1</td>\n",
       "      <td>0</td>\n",
       "      <td>53.1000</td>\n",
       "      <td>S</td>\n",
       "      <td>First</td>\n",
       "      <td>woman</td>\n",
       "      <td>False</td>\n",
       "      <td>C</td>\n",
       "      <td>Southampton</td>\n",
       "      <td>yes</td>\n",
       "      <td>False</td>\n",
       "    </tr>\n",
       "    <tr>\n",
       "      <th>4</th>\n",
       "      <td>0</td>\n",
       "      <td>3</td>\n",
       "      <td>male</td>\n",
       "      <td>35.0</td>\n",
       "      <td>0</td>\n",
       "      <td>0</td>\n",
       "      <td>8.0500</td>\n",
       "      <td>S</td>\n",
       "      <td>Third</td>\n",
       "      <td>man</td>\n",
       "      <td>True</td>\n",
       "      <td>C</td>\n",
       "      <td>Southampton</td>\n",
       "      <td>no</td>\n",
       "      <td>True</td>\n",
       "    </tr>\n",
       "  </tbody>\n",
       "</table>\n",
       "</div>"
      ],
      "text/plain": [
       "   survived  pclass     sex   age  sibsp  parch     fare embarked  class  \\\n",
       "0         0       3    male  22.0      1      0   7.2500        S  Third   \n",
       "1         1       1  female  38.0      1      0  71.2833        C  First   \n",
       "2         1       3  female  26.0      0      0   7.9250        S  Third   \n",
       "3         1       1  female  35.0      1      0  53.1000        S  First   \n",
       "4         0       3    male  35.0      0      0   8.0500        S  Third   \n",
       "\n",
       "     who  adult_male deck  embark_town alive  alone  \n",
       "0    man        True    C  Southampton    no  False  \n",
       "1  woman       False    C    Cherbourg   yes  False  \n",
       "2  woman       False    C  Southampton   yes   True  \n",
       "3  woman       False    C  Southampton   yes  False  \n",
       "4    man        True    C  Southampton    no   True  "
      ]
     },
     "execution_count": 45,
     "metadata": {},
     "output_type": "execute_result"
    }
   ],
   "source": [
    "dfTitanic.head()"
   ]
  },
  {
   "attachments": {},
   "cell_type": "markdown",
   "metadata": {},
   "source": [
    "<h4>6. Find the outliers and replace the outliers</h4>"
   ]
  },
  {
   "cell_type": "code",
   "execution_count": 53,
   "metadata": {},
   "outputs": [
    {
     "data": {
      "text/plain": [
       "<AxesSubplot:>"
      ]
     },
     "execution_count": 53,
     "metadata": {},
     "output_type": "execute_result"
    },
    {
     "name": "stderr",
     "output_type": "stream",
     "text": [
      "/Users/umesh/Library/Python/3.11/lib/python/site-packages/IPython/core/pylabtools.py:152: MatplotlibDeprecationWarning: savefig() got unexpected keyword argument \"orientation\" which is no longer supported as of 3.3 and will become an error two minor releases later\n",
      "  fig.canvas.print_figure(bytes_io, **kw)\n",
      "/Users/umesh/Library/Python/3.11/lib/python/site-packages/IPython/core/pylabtools.py:152: MatplotlibDeprecationWarning: savefig() got unexpected keyword argument \"facecolor\" which is no longer supported as of 3.3 and will become an error two minor releases later\n",
      "  fig.canvas.print_figure(bytes_io, **kw)\n",
      "/Users/umesh/Library/Python/3.11/lib/python/site-packages/IPython/core/pylabtools.py:152: MatplotlibDeprecationWarning: savefig() got unexpected keyword argument \"edgecolor\" which is no longer supported as of 3.3 and will become an error two minor releases later\n",
      "  fig.canvas.print_figure(bytes_io, **kw)\n",
      "/Users/umesh/Library/Python/3.11/lib/python/site-packages/IPython/core/pylabtools.py:152: MatplotlibDeprecationWarning: savefig() got unexpected keyword argument \"bbox_inches_restore\" which is no longer supported as of 3.3 and will become an error two minor releases later\n",
      "  fig.canvas.print_figure(bytes_io, **kw)\n"
     ]
    },
    {
     "data": {
      "image/png": "[encoded data removed]",
      "text/plain": [
       "<Figure size 640x480 with 1 Axes>"
      ]
     },
     "metadata": {},
     "output_type": "display_data"
    }
   ],
   "source": [
    "sns.boxplot(dfTitanic['age'])"
   ]
  },
  {
   "cell_type": "code",
   "execution_count": 54,
   "metadata": {},
   "outputs": [
    {
     "data": {
      "text/plain": [
       "(881, 15)"
      ]
     },
     "execution_count": 54,
     "metadata": {},
     "output_type": "execute_result"
    }
   ],
   "source": [
    "dfTitanic.shape"
   ]
  },
  {
   "cell_type": "code",
   "execution_count": 55,
   "metadata": {},
   "outputs": [
    {
     "data": {
      "text/plain": [
       "62.0"
      ]
     },
     "execution_count": 55,
     "metadata": {},
     "output_type": "execute_result"
    }
   ],
   "source": [
    "per99Age = dfTitanic['age'].quantile(0.99)\n",
    "per99Age"
   ]
  },
  {
   "cell_type": "code",
   "execution_count": 56,
   "metadata": {},
   "outputs": [
    {
     "data": {
      "text/plain": [
       "(874, 15)"
      ]
     },
     "execution_count": 56,
     "metadata": {},
     "output_type": "execute_result"
    }
   ],
   "source": [
    "dfTitanic = dfTitanic[dfTitanic['age']<=per99Age]\n",
    "dfTitanic.shape"
   ]
  },
  {
   "attachments": {},
   "cell_type": "markdown",
   "metadata": {},
   "source": [
    "<h4>7. Check for Categorical columns and perform encoding.</h4>"
   ]
  },
  {
   "cell_type": "code",
   "execution_count": 59,
   "metadata": {},
   "outputs": [],
   "source": [
    "from sklearn.preprocessing import LabelEncoder"
   ]
  },
  {
   "cell_type": "code",
   "execution_count": 63,
   "metadata": {},
   "outputs": [
    {
     "data": {
      "text/html": [
       "<div>\n",
       "<style scoped>\n",
       "    .dataframe tbody tr th:only-of-type {\n",
       "        vertical-align: middle;\n",
       "    }\n",
       "\n",
       "    .dataframe tbody tr th {\n",
       "        vertical-align: top;\n",
       "    }\n",
       "\n",
       "    .dataframe thead th {\n",
       "        text-align: right;\n",
       "    }\n",
       "</style>\n",
       "<table border=\"1\" class=\"dataframe\">\n",
       "  <thead>\n",
       "    <tr style=\"text-align: right;\">\n",
       "      <th></th>\n",
       "      <th>survived</th>\n",
       "      <th>pclass</th>\n",
       "      <th>sex</th>\n",
       "      <th>age</th>\n",
       "      <th>sibsp</th>\n",
       "      <th>parch</th>\n",
       "      <th>fare</th>\n",
       "      <th>embarked</th>\n",
       "      <th>class</th>\n",
       "      <th>who</th>\n",
       "      <th>adult_male</th>\n",
       "      <th>deck</th>\n",
       "      <th>embark_town</th>\n",
       "      <th>alive</th>\n",
       "      <th>alone</th>\n",
       "    </tr>\n",
       "  </thead>\n",
       "  <tbody>\n",
       "    <tr>\n",
       "      <th>0</th>\n",
       "      <td>0</td>\n",
       "      <td>3</td>\n",
       "      <td>1</td>\n",
       "      <td>22.0</td>\n",
       "      <td>1</td>\n",
       "      <td>0</td>\n",
       "      <td>7.2500</td>\n",
       "      <td>2</td>\n",
       "      <td>2</td>\n",
       "      <td>1</td>\n",
       "      <td>1</td>\n",
       "      <td>2</td>\n",
       "      <td>2</td>\n",
       "      <td>0</td>\n",
       "      <td>0</td>\n",
       "    </tr>\n",
       "    <tr>\n",
       "      <th>1</th>\n",
       "      <td>1</td>\n",
       "      <td>1</td>\n",
       "      <td>0</td>\n",
       "      <td>38.0</td>\n",
       "      <td>1</td>\n",
       "      <td>0</td>\n",
       "      <td>71.2833</td>\n",
       "      <td>0</td>\n",
       "      <td>0</td>\n",
       "      <td>2</td>\n",
       "      <td>0</td>\n",
       "      <td>2</td>\n",
       "      <td>0</td>\n",
       "      <td>1</td>\n",
       "      <td>0</td>\n",
       "    </tr>\n",
       "    <tr>\n",
       "      <th>2</th>\n",
       "      <td>1</td>\n",
       "      <td>3</td>\n",
       "      <td>0</td>\n",
       "      <td>26.0</td>\n",
       "      <td>0</td>\n",
       "      <td>0</td>\n",
       "      <td>7.9250</td>\n",
       "      <td>2</td>\n",
       "      <td>2</td>\n",
       "      <td>2</td>\n",
       "      <td>0</td>\n",
       "      <td>2</td>\n",
       "      <td>2</td>\n",
       "      <td>1</td>\n",
       "      <td>1</td>\n",
       "    </tr>\n",
       "    <tr>\n",
       "      <th>3</th>\n",
       "      <td>1</td>\n",
       "      <td>1</td>\n",
       "      <td>0</td>\n",
       "      <td>35.0</td>\n",
       "      <td>1</td>\n",
       "      <td>0</td>\n",
       "      <td>53.1000</td>\n",
       "      <td>2</td>\n",
       "      <td>0</td>\n",
       "      <td>2</td>\n",
       "      <td>0</td>\n",
       "      <td>2</td>\n",
       "      <td>2</td>\n",
       "      <td>1</td>\n",
       "      <td>0</td>\n",
       "    </tr>\n",
       "    <tr>\n",
       "      <th>4</th>\n",
       "      <td>0</td>\n",
       "      <td>3</td>\n",
       "      <td>1</td>\n",
       "      <td>35.0</td>\n",
       "      <td>0</td>\n",
       "      <td>0</td>\n",
       "      <td>8.0500</td>\n",
       "      <td>2</td>\n",
       "      <td>2</td>\n",
       "      <td>1</td>\n",
       "      <td>1</td>\n",
       "      <td>2</td>\n",
       "      <td>2</td>\n",
       "      <td>0</td>\n",
       "      <td>1</td>\n",
       "    </tr>\n",
       "  </tbody>\n",
       "</table>\n",
       "</div>"
      ],
      "text/plain": [
       "   survived  pclass  sex   age  sibsp  parch     fare  embarked  class  who  \\\n",
       "0         0       3    1  22.0      1      0   7.2500         2      2    1   \n",
       "1         1       1    0  38.0      1      0  71.2833         0      0    2   \n",
       "2         1       3    0  26.0      0      0   7.9250         2      2    2   \n",
       "3         1       1    0  35.0      1      0  53.1000         2      0    2   \n",
       "4         0       3    1  35.0      0      0   8.0500         2      2    1   \n",
       "\n",
       "   adult_male  deck  embark_town  alive  alone  \n",
       "0           1     2            2      0      0  \n",
       "1           0     2            0      1      0  \n",
       "2           0     2            2      1      1  \n",
       "3           0     2            2      1      0  \n",
       "4           1     2            2      0      1  "
      ]
     },
     "execution_count": 63,
     "metadata": {},
     "output_type": "execute_result"
    }
   ],
   "source": [
    "labelEnc = LabelEncoder()\n",
    "dfTitanic.sex = labelEnc.fit_transform(dfTitanic.sex)\n",
    "dfTitanic.embarked = labelEnc.fit_transform(dfTitanic.embarked)\n",
    "dfTitanic.embark_town = labelEnc.fit_transform(dfTitanic.embark_town)\n",
    "dfTitanic.deck = labelEnc.fit_transform(dfTitanic.deck)\n",
    "dfTitanic.who = labelEnc.fit_transform(dfTitanic.who)\n",
    "dfTitanic[\"class\"] = labelEnc.fit_transform(dfTitanic[\"class\"])\n",
    "dfTitanic.adult_male = labelEnc.fit_transform(dfTitanic.adult_male)\n",
    "dfTitanic.alone = labelEnc.fit_transform(dfTitanic.alone)\n",
    "dfTitanic.alive = labelEnc.fit_transform(dfTitanic.alive)\n",
    "\n",
    "dfTitanic.head()"
   ]
  },
  {
   "cell_type": "code",
   "execution_count": 64,
   "metadata": {},
   "outputs": [
    {
     "data": {
      "text/html": [
       "<div>\n",
       "<style scoped>\n",
       "    .dataframe tbody tr th:only-of-type {\n",
       "        vertical-align: middle;\n",
       "    }\n",
       "\n",
       "    .dataframe tbody tr th {\n",
       "        vertical-align: top;\n",
       "    }\n",
       "\n",
       "    .dataframe thead th {\n",
       "        text-align: right;\n",
       "    }\n",
       "</style>\n",
       "<table border=\"1\" class=\"dataframe\">\n",
       "  <thead>\n",
       "    <tr style=\"text-align: right;\">\n",
       "      <th></th>\n",
       "      <th>survived</th>\n",
       "      <th>pclass</th>\n",
       "      <th>sex</th>\n",
       "      <th>age</th>\n",
       "      <th>sibsp</th>\n",
       "      <th>parch</th>\n",
       "      <th>fare</th>\n",
       "      <th>embarked</th>\n",
       "      <th>class</th>\n",
       "      <th>who</th>\n",
       "      <th>adult_male</th>\n",
       "      <th>deck</th>\n",
       "      <th>embark_town</th>\n",
       "      <th>alive</th>\n",
       "      <th>alone</th>\n",
       "    </tr>\n",
       "  </thead>\n",
       "  <tbody>\n",
       "    <tr>\n",
       "      <th>survived</th>\n",
       "      <td>1.000000</td>\n",
       "      <td>-0.347920</td>\n",
       "      <td>-0.537874</td>\n",
       "      <td>-0.055740</td>\n",
       "      <td>-0.037099</td>\n",
       "      <td>0.088546</td>\n",
       "      <td>0.263656</td>\n",
       "      <td>-0.177751</td>\n",
       "      <td>-0.347920</td>\n",
       "      <td>0.319269</td>\n",
       "      <td>-0.551925</td>\n",
       "      <td>0.094941</td>\n",
       "      <td>-0.177751</td>\n",
       "      <td>1.000000</td>\n",
       "      <td>-0.206510</td>\n",
       "    </tr>\n",
       "    <tr>\n",
       "      <th>pclass</th>\n",
       "      <td>-0.347920</td>\n",
       "      <td>1.000000</td>\n",
       "      <td>0.138498</td>\n",
       "      <td>-0.327746</td>\n",
       "      <td>0.081523</td>\n",
       "      <td>0.024483</td>\n",
       "      <td>-0.549743</td>\n",
       "      <td>0.165071</td>\n",
       "      <td>1.000000</td>\n",
       "      <td>-0.199687</td>\n",
       "      <td>0.101172</td>\n",
       "      <td>0.008289</td>\n",
       "      <td>0.165071</td>\n",
       "      <td>-0.347920</td>\n",
       "      <td>0.137779</td>\n",
       "    </tr>\n",
       "    <tr>\n",
       "      <th>sex</th>\n",
       "      <td>-0.537874</td>\n",
       "      <td>0.138498</td>\n",
       "      <td>1.000000</td>\n",
       "      <td>0.067074</td>\n",
       "      <td>-0.113667</td>\n",
       "      <td>-0.255013</td>\n",
       "      <td>-0.186180</td>\n",
       "      <td>0.115899</td>\n",
       "      <td>0.138498</td>\n",
       "      <td>-0.636135</td>\n",
       "      <td>0.907137</td>\n",
       "      <td>-0.077623</td>\n",
       "      <td>0.115899</td>\n",
       "      <td>-0.537874</td>\n",
       "      <td>0.306798</td>\n",
       "    </tr>\n",
       "    <tr>\n",
       "      <th>age</th>\n",
       "      <td>-0.055740</td>\n",
       "      <td>-0.327746</td>\n",
       "      <td>0.067074</td>\n",
       "      <td>1.000000</td>\n",
       "      <td>-0.236454</td>\n",
       "      <td>-0.188318</td>\n",
       "      <td>0.089418</td>\n",
       "      <td>-0.017524</td>\n",
       "      <td>-0.327746</td>\n",
       "      <td>0.387944</td>\n",
       "      <td>0.245512</td>\n",
       "      <td>-0.012754</td>\n",
       "      <td>-0.017524</td>\n",
       "      <td>-0.055740</td>\n",
       "      <td>0.168732</td>\n",
       "    </tr>\n",
       "    <tr>\n",
       "      <th>sibsp</th>\n",
       "      <td>-0.037099</td>\n",
       "      <td>0.081523</td>\n",
       "      <td>-0.113667</td>\n",
       "      <td>-0.236454</td>\n",
       "      <td>1.000000</td>\n",
       "      <td>0.416264</td>\n",
       "      <td>0.159262</td>\n",
       "      <td>0.067117</td>\n",
       "      <td>0.081523</td>\n",
       "      <td>-0.137216</td>\n",
       "      <td>-0.253575</td>\n",
       "      <td>-0.000561</td>\n",
       "      <td>0.067117</td>\n",
       "      <td>-0.037099</td>\n",
       "      <td>-0.583717</td>\n",
       "    </tr>\n",
       "    <tr>\n",
       "      <th>parch</th>\n",
       "      <td>0.088546</td>\n",
       "      <td>0.024483</td>\n",
       "      <td>-0.255013</td>\n",
       "      <td>-0.188318</td>\n",
       "      <td>0.416264</td>\n",
       "      <td>1.000000</td>\n",
       "      <td>0.197376</td>\n",
       "      <td>0.039242</td>\n",
       "      <td>0.024483</td>\n",
       "      <td>-0.053338</td>\n",
       "      <td>-0.361688</td>\n",
       "      <td>0.023385</td>\n",
       "      <td>0.039242</td>\n",
       "      <td>0.088546</td>\n",
       "      <td>-0.582928</td>\n",
       "    </tr>\n",
       "    <tr>\n",
       "      <th>fare</th>\n",
       "      <td>0.263656</td>\n",
       "      <td>-0.549743</td>\n",
       "      <td>-0.186180</td>\n",
       "      <td>0.089418</td>\n",
       "      <td>0.159262</td>\n",
       "      <td>0.197376</td>\n",
       "      <td>1.000000</td>\n",
       "      <td>-0.232996</td>\n",
       "      <td>-0.549743</td>\n",
       "      <td>0.147170</td>\n",
       "      <td>-0.186563</td>\n",
       "      <td>-0.099681</td>\n",
       "      <td>-0.232996</td>\n",
       "      <td>0.263656</td>\n",
       "      <td>-0.267809</td>\n",
       "    </tr>\n",
       "    <tr>\n",
       "      <th>embarked</th>\n",
       "      <td>-0.177751</td>\n",
       "      <td>0.165071</td>\n",
       "      <td>0.115899</td>\n",
       "      <td>-0.017524</td>\n",
       "      <td>0.067117</td>\n",
       "      <td>0.039242</td>\n",
       "      <td>-0.232996</td>\n",
       "      <td>1.000000</td>\n",
       "      <td>0.165071</td>\n",
       "      <td>-0.069623</td>\n",
       "      <td>0.099778</td>\n",
       "      <td>0.095559</td>\n",
       "      <td>1.000000</td>\n",
       "      <td>-0.177751</td>\n",
       "      <td>0.064370</td>\n",
       "    </tr>\n",
       "    <tr>\n",
       "      <th>class</th>\n",
       "      <td>-0.347920</td>\n",
       "      <td>1.000000</td>\n",
       "      <td>0.138498</td>\n",
       "      <td>-0.327746</td>\n",
       "      <td>0.081523</td>\n",
       "      <td>0.024483</td>\n",
       "      <td>-0.549743</td>\n",
       "      <td>0.165071</td>\n",
       "      <td>1.000000</td>\n",
       "      <td>-0.199687</td>\n",
       "      <td>0.101172</td>\n",
       "      <td>0.008289</td>\n",
       "      <td>0.165071</td>\n",
       "      <td>-0.347920</td>\n",
       "      <td>0.137779</td>\n",
       "    </tr>\n",
       "    <tr>\n",
       "      <th>who</th>\n",
       "      <td>0.319269</td>\n",
       "      <td>-0.199687</td>\n",
       "      <td>-0.636135</td>\n",
       "      <td>0.387944</td>\n",
       "      <td>-0.137216</td>\n",
       "      <td>-0.053338</td>\n",
       "      <td>0.147170</td>\n",
       "      <td>-0.069623</td>\n",
       "      <td>-0.199687</td>\n",
       "      <td>1.000000</td>\n",
       "      <td>-0.431648</td>\n",
       "      <td>0.022438</td>\n",
       "      <td>-0.069623</td>\n",
       "      <td>0.319269</td>\n",
       "      <td>0.006590</td>\n",
       "    </tr>\n",
       "    <tr>\n",
       "      <th>adult_male</th>\n",
       "      <td>-0.551925</td>\n",
       "      <td>0.101172</td>\n",
       "      <td>0.907137</td>\n",
       "      <td>0.245512</td>\n",
       "      <td>-0.253575</td>\n",
       "      <td>-0.361688</td>\n",
       "      <td>-0.186563</td>\n",
       "      <td>0.099778</td>\n",
       "      <td>0.101172</td>\n",
       "      <td>-0.431648</td>\n",
       "      <td>1.000000</td>\n",
       "      <td>-0.090324</td>\n",
       "      <td>0.099778</td>\n",
       "      <td>-0.551925</td>\n",
       "      <td>0.409073</td>\n",
       "    </tr>\n",
       "    <tr>\n",
       "      <th>deck</th>\n",
       "      <td>0.094941</td>\n",
       "      <td>0.008289</td>\n",
       "      <td>-0.077623</td>\n",
       "      <td>-0.012754</td>\n",
       "      <td>-0.000561</td>\n",
       "      <td>0.023385</td>\n",
       "      <td>-0.099681</td>\n",
       "      <td>0.095559</td>\n",
       "      <td>0.008289</td>\n",
       "      <td>0.022438</td>\n",
       "      <td>-0.090324</td>\n",
       "      <td>1.000000</td>\n",
       "      <td>0.095559</td>\n",
       "      <td>0.094941</td>\n",
       "      <td>-0.073574</td>\n",
       "    </tr>\n",
       "    <tr>\n",
       "      <th>embark_town</th>\n",
       "      <td>-0.177751</td>\n",
       "      <td>0.165071</td>\n",
       "      <td>0.115899</td>\n",
       "      <td>-0.017524</td>\n",
       "      <td>0.067117</td>\n",
       "      <td>0.039242</td>\n",
       "      <td>-0.232996</td>\n",
       "      <td>1.000000</td>\n",
       "      <td>0.165071</td>\n",
       "      <td>-0.069623</td>\n",
       "      <td>0.099778</td>\n",
       "      <td>0.095559</td>\n",
       "      <td>1.000000</td>\n",
       "      <td>-0.177751</td>\n",
       "      <td>0.064370</td>\n",
       "    </tr>\n",
       "    <tr>\n",
       "      <th>alive</th>\n",
       "      <td>1.000000</td>\n",
       "      <td>-0.347920</td>\n",
       "      <td>-0.537874</td>\n",
       "      <td>-0.055740</td>\n",
       "      <td>-0.037099</td>\n",
       "      <td>0.088546</td>\n",
       "      <td>0.263656</td>\n",
       "      <td>-0.177751</td>\n",
       "      <td>-0.347920</td>\n",
       "      <td>0.319269</td>\n",
       "      <td>-0.551925</td>\n",
       "      <td>0.094941</td>\n",
       "      <td>-0.177751</td>\n",
       "      <td>1.000000</td>\n",
       "      <td>-0.206510</td>\n",
       "    </tr>\n",
       "    <tr>\n",
       "      <th>alone</th>\n",
       "      <td>-0.206510</td>\n",
       "      <td>0.137779</td>\n",
       "      <td>0.306798</td>\n",
       "      <td>0.168732</td>\n",
       "      <td>-0.583717</td>\n",
       "      <td>-0.582928</td>\n",
       "      <td>-0.267809</td>\n",
       "      <td>0.064370</td>\n",
       "      <td>0.137779</td>\n",
       "      <td>0.006590</td>\n",
       "      <td>0.409073</td>\n",
       "      <td>-0.073574</td>\n",
       "      <td>0.064370</td>\n",
       "      <td>-0.206510</td>\n",
       "      <td>1.000000</td>\n",
       "    </tr>\n",
       "  </tbody>\n",
       "</table>\n",
       "</div>"
      ],
      "text/plain": [
       "             survived    pclass       sex       age     sibsp     parch  \\\n",
       "survived     1.000000 -0.347920 -0.537874 -0.055740 -0.037099  0.088546   \n",
       "pclass      -0.347920  1.000000  0.138498 -0.327746  0.081523  0.024483   \n",
       "sex         -0.537874  0.138498  1.000000  0.067074 -0.113667 -0.255013   \n",
       "age         -0.055740 -0.327746  0.067074  1.000000 -0.236454 -0.188318   \n",
       "sibsp       -0.037099  0.081523 -0.113667 -0.236454  1.000000  0.416264   \n",
       "parch        0.088546  0.024483 -0.255013 -0.188318  0.416264  1.000000   \n",
       "fare         0.263656 -0.549743 -0.186180  0.089418  0.159262  0.197376   \n",
       "embarked    -0.177751  0.165071  0.115899 -0.017524  0.067117  0.039242   \n",
       "class       -0.347920  1.000000  0.138498 -0.327746  0.081523  0.024483   \n",
       "who          0.319269 -0.199687 -0.636135  0.387944 -0.137216 -0.053338   \n",
       "adult_male  -0.551925  0.101172  0.907137  0.245512 -0.253575 -0.361688   \n",
       "deck         0.094941  0.008289 -0.077623 -0.012754 -0.000561  0.023385   \n",
       "embark_town -0.177751  0.165071  0.115899 -0.017524  0.067117  0.039242   \n",
       "alive        1.000000 -0.347920 -0.537874 -0.055740 -0.037099  0.088546   \n",
       "alone       -0.206510  0.137779  0.306798  0.168732 -0.583717 -0.582928   \n",
       "\n",
       "                 fare  embarked     class       who  adult_male      deck  \\\n",
       "survived     0.263656 -0.177751 -0.347920  0.319269   -0.551925  0.094941   \n",
       "pclass      -0.549743  0.165071  1.000000 -0.199687    0.101172  0.008289   \n",
       "sex         -0.186180  0.115899  0.138498 -0.636135    0.907137 -0.077623   \n",
       "age          0.089418 -0.017524 -0.327746  0.387944    0.245512 -0.012754   \n",
       "sibsp        0.159262  0.067117  0.081523 -0.137216   -0.253575 -0.000561   \n",
       "parch        0.197376  0.039242  0.024483 -0.053338   -0.361688  0.023385   \n",
       "fare         1.000000 -0.232996 -0.549743  0.147170   -0.186563 -0.099681   \n",
       "embarked    -0.232996  1.000000  0.165071 -0.069623    0.099778  0.095559   \n",
       "class       -0.549743  0.165071  1.000000 -0.199687    0.101172  0.008289   \n",
       "who          0.147170 -0.069623 -0.199687  1.000000   -0.431648  0.022438   \n",
       "adult_male  -0.186563  0.099778  0.101172 -0.431648    1.000000 -0.090324   \n",
       "deck        -0.099681  0.095559  0.008289  0.022438   -0.090324  1.000000   \n",
       "embark_town -0.232996  1.000000  0.165071 -0.069623    0.099778  0.095559   \n",
       "alive        0.263656 -0.177751 -0.347920  0.319269   -0.551925  0.094941   \n",
       "alone       -0.267809  0.064370  0.137779  0.006590    0.409073 -0.073574   \n",
       "\n",
       "             embark_town     alive     alone  \n",
       "survived       -0.177751  1.000000 -0.206510  \n",
       "pclass          0.165071 -0.347920  0.137779  \n",
       "sex             0.115899 -0.537874  0.306798  \n",
       "age            -0.017524 -0.055740  0.168732  \n",
       "sibsp           0.067117 -0.037099 -0.583717  \n",
       "parch           0.039242  0.088546 -0.582928  \n",
       "fare           -0.232996  0.263656 -0.267809  \n",
       "embarked        1.000000 -0.177751  0.064370  \n",
       "class           0.165071 -0.347920  0.137779  \n",
       "who            -0.069623  0.319269  0.006590  \n",
       "adult_male      0.099778 -0.551925  0.409073  \n",
       "deck            0.095559  0.094941 -0.073574  \n",
       "embark_town     1.000000 -0.177751  0.064370  \n",
       "alive          -0.177751  1.000000 -0.206510  \n",
       "alone           0.064370 -0.206510  1.000000  "
      ]
     },
     "execution_count": 64,
     "metadata": {},
     "output_type": "execute_result"
    }
   ],
   "source": [
    "dfTitanic.corr()"
   ]
  },
  {
   "cell_type": "code",
   "execution_count": 65,
   "metadata": {},
   "outputs": [
    {
     "data": {
      "text/plain": [
       "<AxesSubplot:>"
      ]
     },
     "execution_count": 65,
     "metadata": {},
     "output_type": "execute_result"
    },
    {
     "name": "stderr",
     "output_type": "stream",
     "text": [
      "/Users/umesh/Library/Python/3.11/lib/python/site-packages/IPython/core/pylabtools.py:152: MatplotlibDeprecationWarning: savefig() got unexpected keyword argument \"orientation\" which is no longer supported as of 3.3 and will become an error two minor releases later\n",
      "  fig.canvas.print_figure(bytes_io, **kw)\n",
      "/Users/umesh/Library/Python/3.11/lib/python/site-packages/IPython/core/pylabtools.py:152: MatplotlibDeprecationWarning: savefig() got unexpected keyword argument \"facecolor\" which is no longer supported as of 3.3 and will become an error two minor releases later\n",
      "  fig.canvas.print_figure(bytes_io, **kw)\n",
      "/Users/umesh/Library/Python/3.11/lib/python/site-packages/IPython/core/pylabtools.py:152: MatplotlibDeprecationWarning: savefig() got unexpected keyword argument \"edgecolor\" which is no longer supported as of 3.3 and will become an error two minor releases later\n",
      "  fig.canvas.print_figure(bytes_io, **kw)\n",
      "/Users/umesh/Library/Python/3.11/lib/python/site-packages/IPython/core/pylabtools.py:152: MatplotlibDeprecationWarning: savefig() got unexpected keyword argument \"bbox_inches_restore\" which is no longer supported as of 3.3 and will become an error two minor releases later\n",
      "  fig.canvas.print_figure(bytes_io, **kw)\n"
     ]
    },
    {
     "data": {
      "image/png": "[encoded data removed]",
      "text/plain": [
       "<Figure size 1000x1000 with 2 Axes>"
      ]
     },
     "metadata": {},
     "output_type": "display_data"
    }
   ],
   "source": [
    "plt.figure(figsize=(10,10))\n",
    "sns.heatmap(dfTitanic.corr(), annot=True, cmap='coolwarm')"
   ]
  },
  {
   "attachments": {},
   "cell_type": "markdown",
   "metadata": {},
   "source": [
    "<h4>8. Split the data into dependent and independent variables.</h4>"
   ]
  },
  {
   "cell_type": "code",
   "execution_count": 69,
   "metadata": {},
   "outputs": [],
   "source": [
    "#Independent Variables\n",
    "X = dfTitanic.drop(['survived'], axis=1)\n",
    "\n",
    "#Dependent Variable\n",
    "Y = dfTitanic['survived']"
   ]
  },
  {
   "cell_type": "code",
   "execution_count": 70,
   "metadata": {},
   "outputs": [
    {
     "data": {
      "text/html": [
       "<div>\n",
       "<style scoped>\n",
       "    .dataframe tbody tr th:only-of-type {\n",
       "        vertical-align: middle;\n",
       "    }\n",
       "\n",
       "    .dataframe tbody tr th {\n",
       "        vertical-align: top;\n",
       "    }\n",
       "\n",
       "    .dataframe thead th {\n",
       "        text-align: right;\n",
       "    }\n",
       "</style>\n",
       "<table border=\"1\" class=\"dataframe\">\n",
       "  <thead>\n",
       "    <tr style=\"text-align: right;\">\n",
       "      <th></th>\n",
       "      <th>pclass</th>\n",
       "      <th>sex</th>\n",
       "      <th>age</th>\n",
       "      <th>sibsp</th>\n",
       "      <th>parch</th>\n",
       "      <th>fare</th>\n",
       "      <th>embarked</th>\n",
       "      <th>class</th>\n",
       "      <th>who</th>\n",
       "      <th>adult_male</th>\n",
       "      <th>deck</th>\n",
       "      <th>embark_town</th>\n",
       "      <th>alive</th>\n",
       "      <th>alone</th>\n",
       "    </tr>\n",
       "  </thead>\n",
       "  <tbody>\n",
       "    <tr>\n",
       "      <th>0</th>\n",
       "      <td>3</td>\n",
       "      <td>1</td>\n",
       "      <td>22.0</td>\n",
       "      <td>1</td>\n",
       "      <td>0</td>\n",
       "      <td>7.2500</td>\n",
       "      <td>2</td>\n",
       "      <td>2</td>\n",
       "      <td>1</td>\n",
       "      <td>1</td>\n",
       "      <td>2</td>\n",
       "      <td>2</td>\n",
       "      <td>0</td>\n",
       "      <td>0</td>\n",
       "    </tr>\n",
       "    <tr>\n",
       "      <th>1</th>\n",
       "      <td>1</td>\n",
       "      <td>0</td>\n",
       "      <td>38.0</td>\n",
       "      <td>1</td>\n",
       "      <td>0</td>\n",
       "      <td>71.2833</td>\n",
       "      <td>0</td>\n",
       "      <td>0</td>\n",
       "      <td>2</td>\n",
       "      <td>0</td>\n",
       "      <td>2</td>\n",
       "      <td>0</td>\n",
       "      <td>1</td>\n",
       "      <td>0</td>\n",
       "    </tr>\n",
       "    <tr>\n",
       "      <th>2</th>\n",
       "      <td>3</td>\n",
       "      <td>0</td>\n",
       "      <td>26.0</td>\n",
       "      <td>0</td>\n",
       "      <td>0</td>\n",
       "      <td>7.9250</td>\n",
       "      <td>2</td>\n",
       "      <td>2</td>\n",
       "      <td>2</td>\n",
       "      <td>0</td>\n",
       "      <td>2</td>\n",
       "      <td>2</td>\n",
       "      <td>1</td>\n",
       "      <td>1</td>\n",
       "    </tr>\n",
       "    <tr>\n",
       "      <th>3</th>\n",
       "      <td>1</td>\n",
       "      <td>0</td>\n",
       "      <td>35.0</td>\n",
       "      <td>1</td>\n",
       "      <td>0</td>\n",
       "      <td>53.1000</td>\n",
       "      <td>2</td>\n",
       "      <td>0</td>\n",
       "      <td>2</td>\n",
       "      <td>0</td>\n",
       "      <td>2</td>\n",
       "      <td>2</td>\n",
       "      <td>1</td>\n",
       "      <td>0</td>\n",
       "    </tr>\n",
       "    <tr>\n",
       "      <th>4</th>\n",
       "      <td>3</td>\n",
       "      <td>1</td>\n",
       "      <td>35.0</td>\n",
       "      <td>0</td>\n",
       "      <td>0</td>\n",
       "      <td>8.0500</td>\n",
       "      <td>2</td>\n",
       "      <td>2</td>\n",
       "      <td>1</td>\n",
       "      <td>1</td>\n",
       "      <td>2</td>\n",
       "      <td>2</td>\n",
       "      <td>0</td>\n",
       "      <td>1</td>\n",
       "    </tr>\n",
       "  </tbody>\n",
       "</table>\n",
       "</div>"
      ],
      "text/plain": [
       "   pclass  sex   age  sibsp  parch     fare  embarked  class  who  adult_male  \\\n",
       "0       3    1  22.0      1      0   7.2500         2      2    1           1   \n",
       "1       1    0  38.0      1      0  71.2833         0      0    2           0   \n",
       "2       3    0  26.0      0      0   7.9250         2      2    2           0   \n",
       "3       1    0  35.0      1      0  53.1000         2      0    2           0   \n",
       "4       3    1  35.0      0      0   8.0500         2      2    1           1   \n",
       "\n",
       "   deck  embark_town  alive  alone  \n",
       "0     2            2      0      0  \n",
       "1     2            0      1      0  \n",
       "2     2            2      1      1  \n",
       "3     2            2      1      0  \n",
       "4     2            2      0      1  "
      ]
     },
     "execution_count": 70,
     "metadata": {},
     "output_type": "execute_result"
    }
   ],
   "source": [
    "X.head()"
   ]
  },
  {
   "cell_type": "code",
   "execution_count": 71,
   "metadata": {},
   "outputs": [
    {
     "data": {
      "text/plain": [
       "0    0\n",
       "1    1\n",
       "2    1\n",
       "3    1\n",
       "4    0\n",
       "Name: survived, dtype: int64"
      ]
     },
     "execution_count": 71,
     "metadata": {},
     "output_type": "execute_result"
    }
   ],
   "source": [
    "Y.head()"
   ]
  },
  {
   "attachments": {},
   "cell_type": "markdown",
   "metadata": {},
   "source": [
    "<h4>9. Scale the independent variables</h4>"
   ]
  },
  {
   "cell_type": "code",
   "execution_count": 72,
   "metadata": {},
   "outputs": [],
   "source": [
    "#scaling independent variables\n",
    "from sklearn.preprocessing import StandardScaler"
   ]
  },
  {
   "cell_type": "code",
   "execution_count": 73,
   "metadata": {},
   "outputs": [],
   "source": [
    "ss = StandardScaler()\n",
    "name = X.columns\n",
    "X = ss.fit_transform(X)"
   ]
  },
  {
   "cell_type": "code",
   "execution_count": 74,
   "metadata": {},
   "outputs": [],
   "source": [
    "X = pd.DataFrame(X, columns=name)"
   ]
  },
  {
   "cell_type": "code",
   "execution_count": 75,
   "metadata": {},
   "outputs": [
    {
     "data": {
      "text/html": [
       "<div>\n",
       "<style scoped>\n",
       "    .dataframe tbody tr th:only-of-type {\n",
       "        vertical-align: middle;\n",
       "    }\n",
       "\n",
       "    .dataframe tbody tr th {\n",
       "        vertical-align: top;\n",
       "    }\n",
       "\n",
       "    .dataframe thead th {\n",
       "        text-align: right;\n",
       "    }\n",
       "</style>\n",
       "<table border=\"1\" class=\"dataframe\">\n",
       "  <thead>\n",
       "    <tr style=\"text-align: right;\">\n",
       "      <th></th>\n",
       "      <th>pclass</th>\n",
       "      <th>sex</th>\n",
       "      <th>age</th>\n",
       "      <th>sibsp</th>\n",
       "      <th>parch</th>\n",
       "      <th>fare</th>\n",
       "      <th>embarked</th>\n",
       "      <th>class</th>\n",
       "      <th>who</th>\n",
       "      <th>adult_male</th>\n",
       "      <th>deck</th>\n",
       "      <th>embark_town</th>\n",
       "      <th>alive</th>\n",
       "      <th>alone</th>\n",
       "    </tr>\n",
       "  </thead>\n",
       "  <tbody>\n",
       "    <tr>\n",
       "      <th>0</th>\n",
       "      <td>0.816817</td>\n",
       "      <td>0.741381</td>\n",
       "      <td>-0.552827</td>\n",
       "      <td>0.423479</td>\n",
       "      <td>-0.476412</td>\n",
       "      <td>-0.498167</td>\n",
       "      <td>0.585565</td>\n",
       "      <td>0.816817</td>\n",
       "      <td>-0.352775</td>\n",
       "      <td>0.817275</td>\n",
       "      <td>-0.131312</td>\n",
       "      <td>0.585565</td>\n",
       "      <td>-0.792187</td>\n",
       "      <td>-1.223578</td>\n",
       "    </tr>\n",
       "    <tr>\n",
       "      <th>1</th>\n",
       "      <td>-1.595000</td>\n",
       "      <td>-1.348835</td>\n",
       "      <td>0.777381</td>\n",
       "      <td>0.423479</td>\n",
       "      <td>-0.476412</td>\n",
       "      <td>0.798398</td>\n",
       "      <td>-1.941763</td>\n",
       "      <td>-1.595000</td>\n",
       "      <td>1.322908</td>\n",
       "      <td>-1.223578</td>\n",
       "      <td>-0.131312</td>\n",
       "      <td>-1.941763</td>\n",
       "      <td>1.262328</td>\n",
       "      <td>-1.223578</td>\n",
       "    </tr>\n",
       "    <tr>\n",
       "      <th>2</th>\n",
       "      <td>0.816817</td>\n",
       "      <td>-1.348835</td>\n",
       "      <td>-0.220275</td>\n",
       "      <td>-0.477058</td>\n",
       "      <td>-0.476412</td>\n",
       "      <td>-0.484499</td>\n",
       "      <td>0.585565</td>\n",
       "      <td>0.816817</td>\n",
       "      <td>1.322908</td>\n",
       "      <td>-1.223578</td>\n",
       "      <td>-0.131312</td>\n",
       "      <td>0.585565</td>\n",
       "      <td>1.262328</td>\n",
       "      <td>0.817275</td>\n",
       "    </tr>\n",
       "    <tr>\n",
       "      <th>3</th>\n",
       "      <td>-1.595000</td>\n",
       "      <td>-1.348835</td>\n",
       "      <td>0.527967</td>\n",
       "      <td>0.423479</td>\n",
       "      <td>-0.476412</td>\n",
       "      <td>0.430217</td>\n",
       "      <td>0.585565</td>\n",
       "      <td>-1.595000</td>\n",
       "      <td>1.322908</td>\n",
       "      <td>-1.223578</td>\n",
       "      <td>-0.131312</td>\n",
       "      <td>0.585565</td>\n",
       "      <td>1.262328</td>\n",
       "      <td>-1.223578</td>\n",
       "    </tr>\n",
       "    <tr>\n",
       "      <th>4</th>\n",
       "      <td>0.816817</td>\n",
       "      <td>0.741381</td>\n",
       "      <td>0.527967</td>\n",
       "      <td>-0.477058</td>\n",
       "      <td>-0.476412</td>\n",
       "      <td>-0.481968</td>\n",
       "      <td>0.585565</td>\n",
       "      <td>0.816817</td>\n",
       "      <td>-0.352775</td>\n",
       "      <td>0.817275</td>\n",
       "      <td>-0.131312</td>\n",
       "      <td>0.585565</td>\n",
       "      <td>-0.792187</td>\n",
       "      <td>0.817275</td>\n",
       "    </tr>\n",
       "  </tbody>\n",
       "</table>\n",
       "</div>"
      ],
      "text/plain": [
       "     pclass       sex       age     sibsp     parch      fare  embarked  \\\n",
       "0  0.816817  0.741381 -0.552827  0.423479 -0.476412 -0.498167  0.585565   \n",
       "1 -1.595000 -1.348835  0.777381  0.423479 -0.476412  0.798398 -1.941763   \n",
       "2  0.816817 -1.348835 -0.220275 -0.477058 -0.476412 -0.484499  0.585565   \n",
       "3 -1.595000 -1.348835  0.527967  0.423479 -0.476412  0.430217  0.585565   \n",
       "4  0.816817  0.741381  0.527967 -0.477058 -0.476412 -0.481968  0.585565   \n",
       "\n",
       "      class       who  adult_male      deck  embark_town     alive     alone  \n",
       "0  0.816817 -0.352775    0.817275 -0.131312     0.585565 -0.792187 -1.223578  \n",
       "1 -1.595000  1.322908   -1.223578 -0.131312    -1.941763  1.262328 -1.223578  \n",
       "2  0.816817  1.322908   -1.223578 -0.131312     0.585565  1.262328  0.817275  \n",
       "3 -1.595000  1.322908   -1.223578 -0.131312     0.585565  1.262328 -1.223578  \n",
       "4  0.816817 -0.352775    0.817275 -0.131312     0.585565 -0.792187  0.817275  "
      ]
     },
     "execution_count": 75,
     "metadata": {},
     "output_type": "execute_result"
    }
   ],
   "source": [
    "X.head()"
   ]
  },
  {
   "attachments": {},
   "cell_type": "markdown",
   "metadata": {},
   "source": [
    "<h4>10. Split the data into training and testing</h4>"
   ]
  },
  {
   "cell_type": "code",
   "execution_count": 76,
   "metadata": {},
   "outputs": [],
   "source": [
    "from sklearn.model_selection import train_test_split"
   ]
  },
  {
   "cell_type": "code",
   "execution_count": 77,
   "metadata": {},
   "outputs": [],
   "source": [
    "XTrain, XTest, YTrain, YTest = train_test_split(X, Y, test_size=0.2, random_state=0)"
   ]
  },
  {
   "cell_type": "code",
   "execution_count": 78,
   "metadata": {},
   "outputs": [
    {
     "data": {
      "text/html": [
       "<div>\n",
       "<style scoped>\n",
       "    .dataframe tbody tr th:only-of-type {\n",
       "        vertical-align: middle;\n",
       "    }\n",
       "\n",
       "    .dataframe tbody tr th {\n",
       "        vertical-align: top;\n",
       "    }\n",
       "\n",
       "    .dataframe thead th {\n",
       "        text-align: right;\n",
       "    }\n",
       "</style>\n",
       "<table border=\"1\" class=\"dataframe\">\n",
       "  <thead>\n",
       "    <tr style=\"text-align: right;\">\n",
       "      <th></th>\n",
       "      <th>pclass</th>\n",
       "      <th>sex</th>\n",
       "      <th>age</th>\n",
       "      <th>sibsp</th>\n",
       "      <th>parch</th>\n",
       "      <th>fare</th>\n",
       "      <th>embarked</th>\n",
       "      <th>class</th>\n",
       "      <th>who</th>\n",
       "      <th>adult_male</th>\n",
       "      <th>deck</th>\n",
       "      <th>embark_town</th>\n",
       "      <th>alive</th>\n",
       "      <th>alone</th>\n",
       "    </tr>\n",
       "  </thead>\n",
       "  <tbody>\n",
       "    <tr>\n",
       "      <th>54</th>\n",
       "      <td>-0.389092</td>\n",
       "      <td>-1.348835</td>\n",
       "      <td>-0.635965</td>\n",
       "      <td>-0.477058</td>\n",
       "      <td>-0.476412</td>\n",
       "      <td>-0.432360</td>\n",
       "      <td>0.585565</td>\n",
       "      <td>-0.389092</td>\n",
       "      <td>1.322908</td>\n",
       "      <td>-1.223578</td>\n",
       "      <td>-0.131312</td>\n",
       "      <td>0.585565</td>\n",
       "      <td>1.262328</td>\n",
       "      <td>0.817275</td>\n",
       "    </tr>\n",
       "    <tr>\n",
       "      <th>45</th>\n",
       "      <td>0.816817</td>\n",
       "      <td>0.741381</td>\n",
       "      <td>-0.053999</td>\n",
       "      <td>0.423479</td>\n",
       "      <td>-0.476412</td>\n",
       "      <td>-0.331118</td>\n",
       "      <td>-0.678099</td>\n",
       "      <td>0.816817</td>\n",
       "      <td>-0.352775</td>\n",
       "      <td>0.817275</td>\n",
       "      <td>-0.131312</td>\n",
       "      <td>-0.678099</td>\n",
       "      <td>-0.792187</td>\n",
       "      <td>-1.223578</td>\n",
       "    </tr>\n",
       "    <tr>\n",
       "      <th>172</th>\n",
       "      <td>-1.595000</td>\n",
       "      <td>-1.348835</td>\n",
       "      <td>1.775038</td>\n",
       "      <td>-0.477058</td>\n",
       "      <td>-0.476412</td>\n",
       "      <td>-0.063588</td>\n",
       "      <td>-1.941763</td>\n",
       "      <td>-1.595000</td>\n",
       "      <td>1.322908</td>\n",
       "      <td>-1.223578</td>\n",
       "      <td>-0.131312</td>\n",
       "      <td>-1.941763</td>\n",
       "      <td>-0.792187</td>\n",
       "      <td>0.817275</td>\n",
       "    </tr>\n",
       "    <tr>\n",
       "      <th>538</th>\n",
       "      <td>-1.595000</td>\n",
       "      <td>0.741381</td>\n",
       "      <td>-0.968517</td>\n",
       "      <td>-0.477058</td>\n",
       "      <td>2.016907</td>\n",
       "      <td>1.600230</td>\n",
       "      <td>-1.941763</td>\n",
       "      <td>-1.595000</td>\n",
       "      <td>-0.352775</td>\n",
       "      <td>0.817275</td>\n",
       "      <td>-0.131312</td>\n",
       "      <td>-1.941763</td>\n",
       "      <td>1.262328</td>\n",
       "      <td>-1.223578</td>\n",
       "    </tr>\n",
       "    <tr>\n",
       "      <th>819</th>\n",
       "      <td>-1.595000</td>\n",
       "      <td>-1.348835</td>\n",
       "      <td>0.860520</td>\n",
       "      <td>0.423479</td>\n",
       "      <td>0.770247</td>\n",
       "      <td>1.038846</td>\n",
       "      <td>-1.941763</td>\n",
       "      <td>-1.595000</td>\n",
       "      <td>1.322908</td>\n",
       "      <td>-1.223578</td>\n",
       "      <td>2.737857</td>\n",
       "      <td>-1.941763</td>\n",
       "      <td>1.262328</td>\n",
       "      <td>-1.223578</td>\n",
       "    </tr>\n",
       "  </tbody>\n",
       "</table>\n",
       "</div>"
      ],
      "text/plain": [
       "       pclass       sex       age     sibsp     parch      fare  embarked  \\\n",
       "54  -0.389092 -1.348835 -0.635965 -0.477058 -0.476412 -0.432360  0.585565   \n",
       "45   0.816817  0.741381 -0.053999  0.423479 -0.476412 -0.331118 -0.678099   \n",
       "172 -1.595000 -1.348835  1.775038 -0.477058 -0.476412 -0.063588 -1.941763   \n",
       "538 -1.595000  0.741381 -0.968517 -0.477058  2.016907  1.600230 -1.941763   \n",
       "819 -1.595000 -1.348835  0.860520  0.423479  0.770247  1.038846 -1.941763   \n",
       "\n",
       "        class       who  adult_male      deck  embark_town     alive     alone  \n",
       "54  -0.389092  1.322908   -1.223578 -0.131312     0.585565  1.262328  0.817275  \n",
       "45   0.816817 -0.352775    0.817275 -0.131312    -0.678099 -0.792187 -1.223578  \n",
       "172 -1.595000  1.322908   -1.223578 -0.131312    -1.941763 -0.792187  0.817275  \n",
       "538 -1.595000 -0.352775    0.817275 -0.131312    -1.941763  1.262328 -1.223578  \n",
       "819 -1.595000  1.322908   -1.223578  2.737857    -1.941763  1.262328 -1.223578  "
      ]
     },
     "execution_count": 78,
     "metadata": {},
     "output_type": "execute_result"
    }
   ],
   "source": [
    "XTrain.head()"
   ]
  },
  {
   "cell_type": "code",
   "execution_count": 79,
   "metadata": {},
   "outputs": [
    {
     "data": {
      "text/html": [
       "<div>\n",
       "<style scoped>\n",
       "    .dataframe tbody tr th:only-of-type {\n",
       "        vertical-align: middle;\n",
       "    }\n",
       "\n",
       "    .dataframe tbody tr th {\n",
       "        vertical-align: top;\n",
       "    }\n",
       "\n",
       "    .dataframe thead th {\n",
       "        text-align: right;\n",
       "    }\n",
       "</style>\n",
       "<table border=\"1\" class=\"dataframe\">\n",
       "  <thead>\n",
       "    <tr style=\"text-align: right;\">\n",
       "      <th></th>\n",
       "      <th>pclass</th>\n",
       "      <th>sex</th>\n",
       "      <th>age</th>\n",
       "      <th>sibsp</th>\n",
       "      <th>parch</th>\n",
       "      <th>fare</th>\n",
       "      <th>embarked</th>\n",
       "      <th>class</th>\n",
       "      <th>who</th>\n",
       "      <th>adult_male</th>\n",
       "      <th>deck</th>\n",
       "      <th>embark_town</th>\n",
       "      <th>alive</th>\n",
       "      <th>alone</th>\n",
       "    </tr>\n",
       "  </thead>\n",
       "  <tbody>\n",
       "    <tr>\n",
       "      <th>141</th>\n",
       "      <td>0.816817</td>\n",
       "      <td>0.741381</td>\n",
       "      <td>-0.137137</td>\n",
       "      <td>-0.477058</td>\n",
       "      <td>-0.476412</td>\n",
       "      <td>-0.487115</td>\n",
       "      <td>0.585565</td>\n",
       "      <td>0.816817</td>\n",
       "      <td>-0.352775</td>\n",
       "      <td>0.817275</td>\n",
       "      <td>-0.131312</td>\n",
       "      <td>0.585565</td>\n",
       "      <td>1.262328</td>\n",
       "      <td>0.817275</td>\n",
       "    </tr>\n",
       "    <tr>\n",
       "      <th>113</th>\n",
       "      <td>-1.595000</td>\n",
       "      <td>0.741381</td>\n",
       "      <td>-0.386551</td>\n",
       "      <td>-0.477058</td>\n",
       "      <td>0.770247</td>\n",
       "      <td>4.366905</td>\n",
       "      <td>-1.941763</td>\n",
       "      <td>-1.595000</td>\n",
       "      <td>-0.352775</td>\n",
       "      <td>0.817275</td>\n",
       "      <td>-1.565897</td>\n",
       "      <td>-1.941763</td>\n",
       "      <td>-0.792187</td>\n",
       "      <td>-1.223578</td>\n",
       "    </tr>\n",
       "    <tr>\n",
       "      <th>729</th>\n",
       "      <td>0.816817</td>\n",
       "      <td>0.741381</td>\n",
       "      <td>-0.386551</td>\n",
       "      <td>0.423479</td>\n",
       "      <td>-0.476412</td>\n",
       "      <td>-0.318969</td>\n",
       "      <td>0.585565</td>\n",
       "      <td>0.816817</td>\n",
       "      <td>-0.352775</td>\n",
       "      <td>0.817275</td>\n",
       "      <td>-0.131312</td>\n",
       "      <td>0.585565</td>\n",
       "      <td>-0.792187</td>\n",
       "      <td>-1.223578</td>\n",
       "    </tr>\n",
       "    <tr>\n",
       "      <th>294</th>\n",
       "      <td>0.816817</td>\n",
       "      <td>0.741381</td>\n",
       "      <td>-0.053999</td>\n",
       "      <td>1.324016</td>\n",
       "      <td>-0.476412</td>\n",
       "      <td>-0.174194</td>\n",
       "      <td>-0.678099</td>\n",
       "      <td>0.816817</td>\n",
       "      <td>-0.352775</td>\n",
       "      <td>0.817275</td>\n",
       "      <td>-0.131312</td>\n",
       "      <td>-0.678099</td>\n",
       "      <td>1.262328</td>\n",
       "      <td>-1.223578</td>\n",
       "    </tr>\n",
       "    <tr>\n",
       "      <th>261</th>\n",
       "      <td>0.816817</td>\n",
       "      <td>0.741381</td>\n",
       "      <td>-1.051655</td>\n",
       "      <td>3.125089</td>\n",
       "      <td>0.770247</td>\n",
       "      <td>0.158637</td>\n",
       "      <td>0.585565</td>\n",
       "      <td>0.816817</td>\n",
       "      <td>-0.352775</td>\n",
       "      <td>0.817275</td>\n",
       "      <td>-0.131312</td>\n",
       "      <td>0.585565</td>\n",
       "      <td>-0.792187</td>\n",
       "      <td>-1.223578</td>\n",
       "    </tr>\n",
       "  </tbody>\n",
       "</table>\n",
       "</div>"
      ],
      "text/plain": [
       "       pclass       sex       age     sibsp     parch      fare  embarked  \\\n",
       "141  0.816817  0.741381 -0.137137 -0.477058 -0.476412 -0.487115  0.585565   \n",
       "113 -1.595000  0.741381 -0.386551 -0.477058  0.770247  4.366905 -1.941763   \n",
       "729  0.816817  0.741381 -0.386551  0.423479 -0.476412 -0.318969  0.585565   \n",
       "294  0.816817  0.741381 -0.053999  1.324016 -0.476412 -0.174194 -0.678099   \n",
       "261  0.816817  0.741381 -1.051655  3.125089  0.770247  0.158637  0.585565   \n",
       "\n",
       "        class       who  adult_male      deck  embark_town     alive     alone  \n",
       "141  0.816817 -0.352775    0.817275 -0.131312     0.585565  1.262328  0.817275  \n",
       "113 -1.595000 -0.352775    0.817275 -1.565897    -1.941763 -0.792187 -1.223578  \n",
       "729  0.816817 -0.352775    0.817275 -0.131312     0.585565 -0.792187 -1.223578  \n",
       "294  0.816817 -0.352775    0.817275 -0.131312    -0.678099  1.262328 -1.223578  \n",
       "261  0.816817 -0.352775    0.817275 -0.131312     0.585565 -0.792187 -1.223578  "
      ]
     },
     "execution_count": 79,
     "metadata": {},
     "output_type": "execute_result"
    }
   ],
   "source": [
    "XTest.head()    "
   ]
  },
  {
   "cell_type": "code",
   "execution_count": 80,
   "metadata": {},
   "outputs": [
    {
     "data": {
      "text/plain": [
       "56     1\n",
       "46     0\n",
       "177    0\n",
       "550    1\n",
       "835    1\n",
       "Name: survived, dtype: int64"
      ]
     },
     "execution_count": 80,
     "metadata": {},
     "output_type": "execute_result"
    }
   ],
   "source": [
    "YTrain.head()"
   ]
  },
  {
   "cell_type": "code",
   "execution_count": 81,
   "metadata": {},
   "outputs": [
    {
     "data": {
      "text/plain": [
       "146    1\n",
       "118    0\n",
       "743    0\n",
       "301    1\n",
       "266    0\n",
       "Name: survived, dtype: int64"
      ]
     },
     "execution_count": 81,
     "metadata": {},
     "output_type": "execute_result"
    }
   ],
   "source": [
    "YTest.head()"
   ]
  },
  {
   "cell_type": "code",
   "execution_count": 82,
   "metadata": {},
   "outputs": [
    {
     "data": {
      "text/plain": [
       "(699, 14)"
      ]
     },
     "execution_count": 82,
     "metadata": {},
     "output_type": "execute_result"
    }
   ],
   "source": [
    "XTrain.shape"
   ]
  },
  {
   "cell_type": "code",
   "execution_count": 83,
   "metadata": {},
   "outputs": [
    {
     "data": {
      "text/plain": [
       "(175, 14)"
      ]
     },
     "execution_count": 83,
     "metadata": {},
     "output_type": "execute_result"
    }
   ],
   "source": [
    "XTest.shape"
   ]
  }
 ],
 "metadata": {
  "kernelspec": {
   "display_name": "Python 3",
   "language": "python",
   "name": "python3"
  },
  "language_info": {
   "codemirror_mode": {
    "name": "ipython",
    "version": 3
   },
   "file_extension": ".py",
   "mimetype": "text/x-python",
   "name": "python",
   "nbconvert_exporter": "python",
   "pygments_lexer": "ipython3",
   "version": "3.11.1"
  },
  "orig_nbformat": 4
 },
 "nbformat": 4,
 "nbformat_minor": 2
}
